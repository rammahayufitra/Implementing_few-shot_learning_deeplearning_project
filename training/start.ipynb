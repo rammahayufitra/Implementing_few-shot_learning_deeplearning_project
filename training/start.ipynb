{
 "cells": [
  {
   "cell_type": "code",
   "execution_count": 47,
   "metadata": {},
   "outputs": [
    {
     "data": {
      "text/html": [
       "<pre style=\"white-space:pre;overflow-x:auto;line-height:normal;font-family:Menlo,'DejaVu Sans Mono',consolas,'Courier New',monospace\">device_used : cuda\n",
       "</pre>\n"
      ],
      "text/plain": [
       "device_used : cuda\n"
      ]
     },
     "metadata": {},
     "output_type": "display_data"
    }
   ],
   "source": [
    "# import the relevant package and dataset \n",
    "\n",
    "from torch_snippets import *\n",
    "#!wget https://www.dropbox.com/s/ua1rr8btkmpqjxh/face-detection.zip\n",
    "#!unzip face-detection.zip\n",
    "device = 'cuda' if torch.cuda.is_available() else 'cpu'\n",
    "print('device_used :', device)"
   ]
  },
  {
   "cell_type": "code",
   "execution_count": 49,
   "metadata": {},
   "outputs": [],
   "source": [
    "# Define the dataset class - SiemeseNetworDataset. \n",
    "class SiemeseNetworkDataset(Dataset):\n",
    "    def __init__(self,folder,transform=None, should_invert=True):\n",
    "        self.folder = folder \n",
    "        self.items = Glob(f'{self.folder}/*/*')\n",
    "        self.transform = transform\n",
    "    def __len__(self):\n",
    "        return len(self.items)\n",
    "    def __getitem__(self, ix):\n",
    "        itemA = self.items[ix]\n",
    "        person = fname(parent(itemA))\n",
    "        same_person = randint(2)\n",
    "        if same_person: \n",
    "            itemB = choose(Glob(f'{self.folder}/{person}/*', silent=True))\n",
    "        else: \n",
    "            while True:\n",
    "                itemB = choose(self.items)\n",
    "                if person != fname(parent(itemB)):\n",
    "                    break\n",
    "        imgA = read(itemA)\n",
    "        imgB = read(itemB)\n",
    "        if self.transform:\n",
    "            imgA = self.transform(imgA)\n",
    "            imgB = self.transform(imgB)\n",
    "        return imgA, imgB, np.array([1-same_person])"
   ]
  },
  {
   "cell_type": "code",
   "execution_count": 50,
   "metadata": {},
   "outputs": [],
   "source": [
    "from torchvision import transforms \n",
    "\n",
    "trn_tfms = transforms.Compose([\n",
    "    transforms.ToPILImage(),\n",
    "    transforms.RandomHorizontalFlip(), \n",
    "    transforms.RandomAffine(5, (0.01,0.2),scale=(0.9,1.1)),\n",
    "    transforms.Resize((100,100)),\n",
    "    transforms.ToTensor(), \n",
    "    transforms.Normalize((0.5), (0.5)) \n",
    "])\n",
    "\n",
    "val_tfms = transforms.Compose([\n",
    "    transforms.ToPILImage(),\n",
    "    transforms.Resize((100,100)),\n",
    "    transforms.ToTensor(), \n",
    "    transforms.Normalize((0.5), (0.5))\n",
    "])\n",
    "\n",
    "trn_ds = SiemeseNetworkDataset(folder = './data/faces/training/', transform=trn_tfms)\n",
    "val_ds = SiemeseNetworkDataset(folder = './data/faces/testing/', transform=val_tfms)\n",
    "\n",
    "trn_dl = DataLoader(trn_ds, shuffle=True, batch_size=64)\n",
    "val_dl = DataLoader(val_ds, shuffle=False, batch_size=64)\n"
   ]
  },
  {
   "cell_type": "code",
   "execution_count": 42,
   "metadata": {},
   "outputs": [
    {
     "data": {
      "text/html": [
       "<pre style=\"white-space:pre;overflow-x:auto;line-height:normal;font-family:Menlo,'DejaVu Sans Mono',consolas,'Courier New',monospace\"><span style=\"font-weight: bold\">(</span>\n",
       "    <span style=\"color: #800080; text-decoration-color: #800080; font-weight: bold\">array</span><span style=\"font-weight: bold\">([[</span><span style=\"color: #008080; text-decoration-color: #008080; font-weight: bold\">122</span>, <span style=\"color: #008080; text-decoration-color: #008080; font-weight: bold\">123</span>, <span style=\"color: #008080; text-decoration-color: #008080; font-weight: bold\">122</span>, <span style=\"color: #808000; text-decoration-color: #808000\">...</span>, <span style=\"color: #008080; text-decoration-color: #008080; font-weight: bold\">118</span>, <span style=\"color: #008080; text-decoration-color: #008080; font-weight: bold\">114</span>, <span style=\"color: #008080; text-decoration-color: #008080; font-weight: bold\">118</span><span style=\"font-weight: bold\">]</span>,\n",
       "       <span style=\"font-weight: bold\">[</span><span style=\"color: #008080; text-decoration-color: #008080; font-weight: bold\">124</span>, <span style=\"color: #008080; text-decoration-color: #008080; font-weight: bold\">122</span>, <span style=\"color: #008080; text-decoration-color: #008080; font-weight: bold\">122</span>, <span style=\"color: #808000; text-decoration-color: #808000\">...</span>, <span style=\"color: #008080; text-decoration-color: #008080; font-weight: bold\">117</span>, <span style=\"color: #008080; text-decoration-color: #008080; font-weight: bold\">116</span>, <span style=\"color: #008080; text-decoration-color: #008080; font-weight: bold\">114</span><span style=\"font-weight: bold\">]</span>,\n",
       "       <span style=\"font-weight: bold\">[</span><span style=\"color: #008080; text-decoration-color: #008080; font-weight: bold\">122</span>, <span style=\"color: #008080; text-decoration-color: #008080; font-weight: bold\">123</span>, <span style=\"color: #008080; text-decoration-color: #008080; font-weight: bold\">122</span>, <span style=\"color: #808000; text-decoration-color: #808000\">...</span>, <span style=\"color: #008080; text-decoration-color: #008080; font-weight: bold\">116</span>, <span style=\"color: #008080; text-decoration-color: #008080; font-weight: bold\">115</span>, <span style=\"color: #008080; text-decoration-color: #008080; font-weight: bold\">115</span><span style=\"font-weight: bold\">]</span>,\n",
       "       <span style=\"color: #808000; text-decoration-color: #808000\">...</span>,\n",
       "       <span style=\"font-weight: bold\">[</span><span style=\"color: #008080; text-decoration-color: #008080; font-weight: bold\">132</span>, <span style=\"color: #008080; text-decoration-color: #008080; font-weight: bold\">110</span>, <span style=\"color: #008080; text-decoration-color: #008080; font-weight: bold\">131</span>, <span style=\"color: #808000; text-decoration-color: #808000\">...</span>,  <span style=\"color: #008080; text-decoration-color: #008080; font-weight: bold\">98</span>,  <span style=\"color: #008080; text-decoration-color: #008080; font-weight: bold\">92</span>,  <span style=\"color: #008080; text-decoration-color: #008080; font-weight: bold\">93</span><span style=\"font-weight: bold\">]</span>,\n",
       "       <span style=\"font-weight: bold\">[</span><span style=\"color: #008080; text-decoration-color: #008080; font-weight: bold\">128</span>, <span style=\"color: #008080; text-decoration-color: #008080; font-weight: bold\">116</span>, <span style=\"color: #008080; text-decoration-color: #008080; font-weight: bold\">137</span>, <span style=\"color: #808000; text-decoration-color: #808000\">...</span>,  <span style=\"color: #008080; text-decoration-color: #008080; font-weight: bold\">99</span>,  <span style=\"color: #008080; text-decoration-color: #008080; font-weight: bold\">93</span>,  <span style=\"color: #008080; text-decoration-color: #008080; font-weight: bold\">90</span><span style=\"font-weight: bold\">]</span>,\n",
       "       <span style=\"font-weight: bold\">[</span><span style=\"color: #008080; text-decoration-color: #008080; font-weight: bold\">126</span>, <span style=\"color: #008080; text-decoration-color: #008080; font-weight: bold\">121</span>, <span style=\"color: #008080; text-decoration-color: #008080; font-weight: bold\">146</span>, <span style=\"color: #808000; text-decoration-color: #808000\">...</span>,  <span style=\"color: #008080; text-decoration-color: #008080; font-weight: bold\">98</span>, <span style=\"color: #008080; text-decoration-color: #008080; font-weight: bold\">101</span>,  <span style=\"color: #008080; text-decoration-color: #008080; font-weight: bold\">85</span><span style=\"font-weight: bold\">]]</span>, <span style=\"color: #808000; text-decoration-color: #808000\">dtype</span>=<span style=\"color: #800080; text-decoration-color: #800080\">uint8</span><span style=\"font-weight: bold\">)</span>,\n",
       "    <span style=\"color: #800080; text-decoration-color: #800080; font-weight: bold\">array</span><span style=\"font-weight: bold\">([[</span><span style=\"color: #008080; text-decoration-color: #008080; font-weight: bold\">123</span>, <span style=\"color: #008080; text-decoration-color: #008080; font-weight: bold\">122</span>, <span style=\"color: #008080; text-decoration-color: #008080; font-weight: bold\">121</span>, <span style=\"color: #808000; text-decoration-color: #808000\">...</span>, <span style=\"color: #008080; text-decoration-color: #008080; font-weight: bold\">117</span>, <span style=\"color: #008080; text-decoration-color: #008080; font-weight: bold\">116</span>, <span style=\"color: #008080; text-decoration-color: #008080; font-weight: bold\">115</span><span style=\"font-weight: bold\">]</span>,\n",
       "       <span style=\"font-weight: bold\">[</span><span style=\"color: #008080; text-decoration-color: #008080; font-weight: bold\">124</span>, <span style=\"color: #008080; text-decoration-color: #008080; font-weight: bold\">123</span>, <span style=\"color: #008080; text-decoration-color: #008080; font-weight: bold\">121</span>, <span style=\"color: #808000; text-decoration-color: #808000\">...</span>, <span style=\"color: #008080; text-decoration-color: #008080; font-weight: bold\">115</span>, <span style=\"color: #008080; text-decoration-color: #008080; font-weight: bold\">116</span>, <span style=\"color: #008080; text-decoration-color: #008080; font-weight: bold\">117</span><span style=\"font-weight: bold\">]</span>,\n",
       "       <span style=\"font-weight: bold\">[</span><span style=\"color: #008080; text-decoration-color: #008080; font-weight: bold\">123</span>, <span style=\"color: #008080; text-decoration-color: #008080; font-weight: bold\">123</span>, <span style=\"color: #008080; text-decoration-color: #008080; font-weight: bold\">123</span>, <span style=\"color: #808000; text-decoration-color: #808000\">...</span>, <span style=\"color: #008080; text-decoration-color: #008080; font-weight: bold\">116</span>, <span style=\"color: #008080; text-decoration-color: #008080; font-weight: bold\">116</span>, <span style=\"color: #008080; text-decoration-color: #008080; font-weight: bold\">116</span><span style=\"font-weight: bold\">]</span>,\n",
       "       <span style=\"color: #808000; text-decoration-color: #808000\">...</span>,\n",
       "       <span style=\"font-weight: bold\">[</span> <span style=\"color: #008080; text-decoration-color: #008080; font-weight: bold\">88</span>, <span style=\"color: #008080; text-decoration-color: #008080; font-weight: bold\">100</span>, <span style=\"color: #008080; text-decoration-color: #008080; font-weight: bold\">129</span>, <span style=\"color: #808000; text-decoration-color: #808000\">...</span>,  <span style=\"color: #008080; text-decoration-color: #008080; font-weight: bold\">94</span>,  <span style=\"color: #008080; text-decoration-color: #008080; font-weight: bold\">85</span>,  <span style=\"color: #008080; text-decoration-color: #008080; font-weight: bold\">79</span><span style=\"font-weight: bold\">]</span>,\n",
       "       <span style=\"font-weight: bold\">[</span> <span style=\"color: #008080; text-decoration-color: #008080; font-weight: bold\">86</span>,  <span style=\"color: #008080; text-decoration-color: #008080; font-weight: bold\">95</span>, <span style=\"color: #008080; text-decoration-color: #008080; font-weight: bold\">129</span>, <span style=\"color: #808000; text-decoration-color: #808000\">...</span>,  <span style=\"color: #008080; text-decoration-color: #008080; font-weight: bold\">84</span>,  <span style=\"color: #008080; text-decoration-color: #008080; font-weight: bold\">92</span>,  <span style=\"color: #008080; text-decoration-color: #008080; font-weight: bold\">95</span><span style=\"font-weight: bold\">]</span>,\n",
       "       <span style=\"font-weight: bold\">[</span> <span style=\"color: #008080; text-decoration-color: #008080; font-weight: bold\">78</span>,  <span style=\"color: #008080; text-decoration-color: #008080; font-weight: bold\">95</span>, <span style=\"color: #008080; text-decoration-color: #008080; font-weight: bold\">125</span>, <span style=\"color: #808000; text-decoration-color: #808000\">...</span>,  <span style=\"color: #008080; text-decoration-color: #008080; font-weight: bold\">84</span>,  <span style=\"color: #008080; text-decoration-color: #008080; font-weight: bold\">92</span>,  <span style=\"color: #008080; text-decoration-color: #008080; font-weight: bold\">94</span><span style=\"font-weight: bold\">]]</span>, <span style=\"color: #808000; text-decoration-color: #808000\">dtype</span>=<span style=\"color: #800080; text-decoration-color: #800080\">uint8</span><span style=\"font-weight: bold\">)</span>,\n",
       "    <span style=\"color: #800080; text-decoration-color: #800080; font-weight: bold\">array</span><span style=\"font-weight: bold\">([</span><span style=\"color: #008080; text-decoration-color: #008080; font-weight: bold\">0</span><span style=\"font-weight: bold\">])</span>\n",
       "<span style=\"font-weight: bold\">)</span>\n",
       "</pre>\n"
      ],
      "text/plain": [
       "\u001b[1m(\u001b[0m\n",
       "    \u001b[1;35marray\u001b[0m\u001b[1m(\u001b[0m\u001b[1m[\u001b[0m\u001b[1m[\u001b[0m\u001b[1;36m122\u001b[0m, \u001b[1;36m123\u001b[0m, \u001b[1;36m122\u001b[0m, \u001b[33m...\u001b[0m, \u001b[1;36m118\u001b[0m, \u001b[1;36m114\u001b[0m, \u001b[1;36m118\u001b[0m\u001b[1m]\u001b[0m,\n",
       "       \u001b[1m[\u001b[0m\u001b[1;36m124\u001b[0m, \u001b[1;36m122\u001b[0m, \u001b[1;36m122\u001b[0m, \u001b[33m...\u001b[0m, \u001b[1;36m117\u001b[0m, \u001b[1;36m116\u001b[0m, \u001b[1;36m114\u001b[0m\u001b[1m]\u001b[0m,\n",
       "       \u001b[1m[\u001b[0m\u001b[1;36m122\u001b[0m, \u001b[1;36m123\u001b[0m, \u001b[1;36m122\u001b[0m, \u001b[33m...\u001b[0m, \u001b[1;36m116\u001b[0m, \u001b[1;36m115\u001b[0m, \u001b[1;36m115\u001b[0m\u001b[1m]\u001b[0m,\n",
       "       \u001b[33m...\u001b[0m,\n",
       "       \u001b[1m[\u001b[0m\u001b[1;36m132\u001b[0m, \u001b[1;36m110\u001b[0m, \u001b[1;36m131\u001b[0m, \u001b[33m...\u001b[0m,  \u001b[1;36m98\u001b[0m,  \u001b[1;36m92\u001b[0m,  \u001b[1;36m93\u001b[0m\u001b[1m]\u001b[0m,\n",
       "       \u001b[1m[\u001b[0m\u001b[1;36m128\u001b[0m, \u001b[1;36m116\u001b[0m, \u001b[1;36m137\u001b[0m, \u001b[33m...\u001b[0m,  \u001b[1;36m99\u001b[0m,  \u001b[1;36m93\u001b[0m,  \u001b[1;36m90\u001b[0m\u001b[1m]\u001b[0m,\n",
       "       \u001b[1m[\u001b[0m\u001b[1;36m126\u001b[0m, \u001b[1;36m121\u001b[0m, \u001b[1;36m146\u001b[0m, \u001b[33m...\u001b[0m,  \u001b[1;36m98\u001b[0m, \u001b[1;36m101\u001b[0m,  \u001b[1;36m85\u001b[0m\u001b[1m]\u001b[0m\u001b[1m]\u001b[0m, \u001b[33mdtype\u001b[0m=\u001b[35muint8\u001b[0m\u001b[1m)\u001b[0m,\n",
       "    \u001b[1;35marray\u001b[0m\u001b[1m(\u001b[0m\u001b[1m[\u001b[0m\u001b[1m[\u001b[0m\u001b[1;36m123\u001b[0m, \u001b[1;36m122\u001b[0m, \u001b[1;36m121\u001b[0m, \u001b[33m...\u001b[0m, \u001b[1;36m117\u001b[0m, \u001b[1;36m116\u001b[0m, \u001b[1;36m115\u001b[0m\u001b[1m]\u001b[0m,\n",
       "       \u001b[1m[\u001b[0m\u001b[1;36m124\u001b[0m, \u001b[1;36m123\u001b[0m, \u001b[1;36m121\u001b[0m, \u001b[33m...\u001b[0m, \u001b[1;36m115\u001b[0m, \u001b[1;36m116\u001b[0m, \u001b[1;36m117\u001b[0m\u001b[1m]\u001b[0m,\n",
       "       \u001b[1m[\u001b[0m\u001b[1;36m123\u001b[0m, \u001b[1;36m123\u001b[0m, \u001b[1;36m123\u001b[0m, \u001b[33m...\u001b[0m, \u001b[1;36m116\u001b[0m, \u001b[1;36m116\u001b[0m, \u001b[1;36m116\u001b[0m\u001b[1m]\u001b[0m,\n",
       "       \u001b[33m...\u001b[0m,\n",
       "       \u001b[1m[\u001b[0m \u001b[1;36m88\u001b[0m, \u001b[1;36m100\u001b[0m, \u001b[1;36m129\u001b[0m, \u001b[33m...\u001b[0m,  \u001b[1;36m94\u001b[0m,  \u001b[1;36m85\u001b[0m,  \u001b[1;36m79\u001b[0m\u001b[1m]\u001b[0m,\n",
       "       \u001b[1m[\u001b[0m \u001b[1;36m86\u001b[0m,  \u001b[1;36m95\u001b[0m, \u001b[1;36m129\u001b[0m, \u001b[33m...\u001b[0m,  \u001b[1;36m84\u001b[0m,  \u001b[1;36m92\u001b[0m,  \u001b[1;36m95\u001b[0m\u001b[1m]\u001b[0m,\n",
       "       \u001b[1m[\u001b[0m \u001b[1;36m78\u001b[0m,  \u001b[1;36m95\u001b[0m, \u001b[1;36m125\u001b[0m, \u001b[33m...\u001b[0m,  \u001b[1;36m84\u001b[0m,  \u001b[1;36m92\u001b[0m,  \u001b[1;36m94\u001b[0m\u001b[1m]\u001b[0m\u001b[1m]\u001b[0m, \u001b[33mdtype\u001b[0m=\u001b[35muint8\u001b[0m\u001b[1m)\u001b[0m,\n",
       "    \u001b[1;35marray\u001b[0m\u001b[1m(\u001b[0m\u001b[1m[\u001b[0m\u001b[1;36m0\u001b[0m\u001b[1m]\u001b[0m\u001b[1m)\u001b[0m\n",
       "\u001b[1m)\u001b[0m\n"
      ]
     },
     "metadata": {},
     "output_type": "display_data"
    }
   ],
   "source": [
    "# testing class or function \n",
    "folder = './data/faces/training/'\n",
    "testing = SiemeseNetworkDataset(folder)\n",
    "print(testing.__getitem__(5))"
   ]
  },
  {
   "cell_type": "code",
   "execution_count": null,
   "metadata": {},
   "outputs": [],
   "source": []
  }
 ],
 "metadata": {
  "kernelspec": {
   "display_name": "Python 3.8.10 64-bit",
   "language": "python",
   "name": "python3"
  },
  "language_info": {
   "codemirror_mode": {
    "name": "ipython",
    "version": 3
   },
   "file_extension": ".py",
   "mimetype": "text/x-python",
   "name": "python",
   "nbconvert_exporter": "python",
   "pygments_lexer": "ipython3",
   "version": "3.8.10"
  },
  "orig_nbformat": 4,
  "vscode": {
   "interpreter": {
    "hash": "916dbcbb3f70747c44a77c7bcd40155683ae19c65e1c03b4aa3499c5328201f1"
   }
  }
 },
 "nbformat": 4,
 "nbformat_minor": 2
}
